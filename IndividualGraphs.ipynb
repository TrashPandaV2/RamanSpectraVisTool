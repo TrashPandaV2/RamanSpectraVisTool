{
 "cells": [
  {
   "metadata": {},
   "cell_type": "code",
   "source": [
    "import numpy as np\n",
    "import os\n",
    "import plotly.express as px"
   ],
   "id": "4079521238cdc419",
   "outputs": [],
   "execution_count": null
  },
  {
   "metadata": {},
   "cell_type": "code",
   "source": "dir= r\"\"",
   "id": "fbc121e30a2defb3",
   "outputs": [],
   "execution_count": null
  },
  {
   "metadata": {},
   "cell_type": "code",
   "source": [
    "\n",
    "for file in os.listdir(dir):\n",
    "    if file.endswith(\".txt\"):\n",
    "        file_path = os.path.join(dir,file)\n",
    "        SpectraFile = np.loadtxt(file_path, delimiter=\"\\t\")\n",
    "        fig = px.line(x=SpectraFile[:,0], y=SpectraFile[:,1],orientation=\"h\", range_x=[50,200],range_y=[650,750])\n",
    "        fig.update_layout(title_text=file.split(\".\")[0])\n",
    "\n",
    "        peak_ranges=[110,115,150,155]\n",
    "        for peak in peak_ranges:\n",
    "            fig.add_vline(peak, line_color=\"darkred\",line=dict(dash=\"dash\"))\n",
    "\n",
    "        fig.show()\n"
   ],
   "id": "fd7924be4f51f2ff",
   "outputs": [],
   "execution_count": null
  }
 ],
 "metadata": {
  "kernelspec": {
   "display_name": "Python 3",
   "language": "python",
   "name": "python3"
  },
  "language_info": {
   "codemirror_mode": {
    "name": "ipython",
    "version": 2
   },
   "file_extension": ".py",
   "mimetype": "text/x-python",
   "name": "python",
   "nbconvert_exporter": "python",
   "pygments_lexer": "ipython2",
   "version": "2.7.6"
  }
 },
 "nbformat": 4,
 "nbformat_minor": 5
}
