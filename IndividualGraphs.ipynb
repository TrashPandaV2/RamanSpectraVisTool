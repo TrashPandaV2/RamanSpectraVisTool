{
 "cells": [
  {
   "metadata": {},
   "cell_type": "markdown",
   "source": "# Individual Spectra Grahs",
   "id": "8a77807f92f26ee"
  },
  {
   "metadata": {},
   "cell_type": "code",
   "source": [
    "import numpy as np\n",
    "import matplotlib.pyplot as plt\n",
    "import os"
   ],
   "id": "4079521238cdc419",
   "outputs": [],
   "execution_count": null
  },
  {
   "metadata": {},
   "cell_type": "code",
   "source": "dir= r\"\"",
   "id": "fbc121e30a2defb3",
   "outputs": [],
   "execution_count": null
  },
  {
   "metadata": {},
   "cell_type": "markdown",
   "source": "Place folder path with .txt file outputs from WiTech within the dir variable\n",
   "id": "a65de80b6b966292"
  },
  {
   "metadata": {},
   "cell_type": "code",
   "source": [
    "\n",
    "for file in os.listdir(dir):\n",
    "    if file.endswith(\".txt\"):\n",
    "        file_path = os.path.join(dir,file)\n",
    "        SpectraFile = np.loadtxt(file_path, delimiter=\"\\t\")\n",
    "        x_axis = SpectraFile[:,0]\n",
    "        y_axis = SpectraFile[:,1]\n",
    "\n",
    "        plt.plot(x_axis, y_axis, alpha=0.8)\n",
    "        plt.xlabel(\"X Axis\")\n",
    "        plt.ylabel(\"Y Axis\")\n",
    "\n",
    "        x_peak_ranges=[110,115,150,155]\n",
    "        for x in x_peak_ranges:\n",
    "            plt.axvline(x=x, color=\"red\", linestyle=\"--\", alpha=0.6)\n",
    "\n",
    "\n",
    "        plt.title(os.path.splitext(file)[0])\n",
    "        plt.xlim(0, 250)\n",
    "        plt.show()"
   ],
   "id": "fd7924be4f51f2ff",
   "outputs": [],
   "execution_count": null
  }
 ],
 "metadata": {
  "kernelspec": {
   "display_name": "Python 3",
   "language": "python",
   "name": "python3"
  },
  "language_info": {
   "codemirror_mode": {
    "name": "ipython",
    "version": 2
   },
   "file_extension": ".py",
   "mimetype": "text/x-python",
   "name": "python",
   "nbconvert_exporter": "python",
   "pygments_lexer": "ipython2",
   "version": "2.7.6"
  }
 },
 "nbformat": 4,
 "nbformat_minor": 5
}
