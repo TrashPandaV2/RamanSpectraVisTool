{
 "cells": [
  {
   "metadata": {
    "ExecuteTime": {
     "end_time": "2025-08-31T19:20:29.941543Z",
     "start_time": "2025-08-31T19:20:29.938670Z"
    }
   },
   "cell_type": "code",
   "source": [
    "import numpy as np\n",
    "import matplotlib.pyplot as plt\n",
    "import os\n",
    "import plotly.express as px\n",
    "from pygments.lexers import q"
   ],
   "id": "4079521238cdc419",
   "outputs": [],
   "execution_count": 119
  },
  {
   "metadata": {
    "ExecuteTime": {
     "end_time": "2025-08-31T19:20:29.945530Z",
     "start_time": "2025-08-31T19:20:29.943961Z"
    }
   },
   "cell_type": "code",
   "source": "dir= r\"\"",
   "id": "fbc121e30a2defb3",
   "outputs": [],
   "execution_count": 120
  },
  {
   "metadata": {
    "ExecuteTime": {
     "end_time": "2025-08-31T19:20:29.996734Z",
     "start_time": "2025-08-31T19:20:29.948793Z"
    }
   },
   "cell_type": "code",
   "source": [
    "\n",
    "for file in os.listdir(dir):\n",
    "    if file.endswith(\".txt\"):\n",
    "        file_path = os.path.join(dir,file)\n",
    "        SpectraFile = np.loadtxt(file_path, delimiter=\"\\t\")\n",
    "        fig = px.line(x=SpectraFile[:,0], y=SpectraFile[:,1],orientation=\"h\", range_x=[50,200],range_y=[650,750])\n",
    "        fig.update_layout(title_text=file.split(\".\")[0])\n",
    "\n",
    "        peak_ranges=[110,115,150,155]\n",
    "        for peak in peak_ranges:\n",
    "            fig.add_vline(peak, line_color=\"darkred\")\n",
    "\n",
    "        fig.show()\n"
   ],
   "id": "fd7924be4f51f2ff",
   "outputs": [
    {
     "data": {
      "application/vnd.plotly.v1+json": {
       "data": [
        {
         "hovertemplate": "x=%{x}<br>y=%{y}<extra></extra>",
         "legendgroup": "",
         "line": {
          "color": "#636efa",
          "dash": "solid"
         },
         "marker": {
          "symbol": "circle"
         },
         "mode": "lines",
         "name": "",
         "showlegend": false,
         "x": {
          "dtype": "f8",
          "bdata": "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"
         },
         "xaxis": "x",
         "y": {
          "dtype": "f8",
          "bdata": "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"
         },
         "yaxis": "y",
         "type": "scattergl"
        }
       ],
       "layout": {
        "template": {
         "data": {
          "histogram2dcontour": [
           {
            "type": "histogram2dcontour",
            "colorbar": {
             "outlinewidth": 0,
             "ticks": ""
            },
            "colorscale": [
             [
              0.0,
              "#0d0887"
             ],
             [
              0.1111111111111111,
              "#46039f"
             ],
             [
              0.2222222222222222,
              "#7201a8"
             ],
             [
              0.3333333333333333,
              "#9c179e"
             ],
             [
              0.4444444444444444,
              "#bd3786"
             ],
             [
              0.5555555555555556,
              "#d8576b"
             ],
             [
              0.6666666666666666,
              "#ed7953"
             ],
             [
              0.7777777777777778,
              "#fb9f3a"
             ],
             [
              0.8888888888888888,
              "#fdca26"
             ],
             [
              1.0,
              "#f0f921"
             ]
            ]
           }
          ],
          "choropleth": [
           {
            "type": "choropleth",
            "colorbar": {
             "outlinewidth": 0,
             "ticks": ""
            }
           }
          ],
          "histogram2d": [
           {
            "type": "histogram2d",
            "colorbar": {
             "outlinewidth": 0,
             "ticks": ""
            },
            "colorscale": [
             [
              0.0,
              "#0d0887"
             ],
             [
              0.1111111111111111,
              "#46039f"
             ],
             [
              0.2222222222222222,
              "#7201a8"
             ],
             [
              0.3333333333333333,
              "#9c179e"
             ],
             [
              0.4444444444444444,
              "#bd3786"
             ],
             [
              0.5555555555555556,
              "#d8576b"
             ],
             [
              0.6666666666666666,
              "#ed7953"
             ],
             [
              0.7777777777777778,
              "#fb9f3a"
             ],
             [
              0.8888888888888888,
              "#fdca26"
             ],
             [
              1.0,
              "#f0f921"
             ]
            ]
           }
          ],
          "heatmap": [
           {
            "type": "heatmap",
            "colorbar": {
             "outlinewidth": 0,
             "ticks": ""
            },
            "colorscale": [
             [
              0.0,
              "#0d0887"
             ],
             [
              0.1111111111111111,
              "#46039f"
             ],
             [
              0.2222222222222222,
              "#7201a8"
             ],
             [
              0.3333333333333333,
              "#9c179e"
             ],
             [
              0.4444444444444444,
              "#bd3786"
             ],
             [
              0.5555555555555556,
              "#d8576b"
             ],
             [
              0.6666666666666666,
              "#ed7953"
             ],
             [
              0.7777777777777778,
              "#fb9f3a"
             ],
             [
              0.8888888888888888,
              "#fdca26"
             ],
             [
              1.0,
              "#f0f921"
             ]
            ]
           }
          ],
          "contourcarpet": [
           {
            "type": "contourcarpet",
            "colorbar": {
             "outlinewidth": 0,
             "ticks": ""
            }
           }
          ],
          "contour": [
           {
            "type": "contour",
            "colorbar": {
             "outlinewidth": 0,
             "ticks": ""
            },
            "colorscale": [
             [
              0.0,
              "#0d0887"
             ],
             [
              0.1111111111111111,
              "#46039f"
             ],
             [
              0.2222222222222222,
              "#7201a8"
             ],
             [
              0.3333333333333333,
              "#9c179e"
             ],
             [
              0.4444444444444444,
              "#bd3786"
             ],
             [
              0.5555555555555556,
              "#d8576b"
             ],
             [
              0.6666666666666666,
              "#ed7953"
             ],
             [
              0.7777777777777778,
              "#fb9f3a"
             ],
             [
              0.8888888888888888,
              "#fdca26"
             ],
             [
              1.0,
              "#f0f921"
             ]
            ]
           }
          ],
          "surface": [
           {
            "type": "surface",
            "colorbar": {
             "outlinewidth": 0,
             "ticks": ""
            },
            "colorscale": [
             [
              0.0,
              "#0d0887"
             ],
             [
              0.1111111111111111,
              "#46039f"
             ],
             [
              0.2222222222222222,
              "#7201a8"
             ],
             [
              0.3333333333333333,
              "#9c179e"
             ],
             [
              0.4444444444444444,
              "#bd3786"
             ],
             [
              0.5555555555555556,
              "#d8576b"
             ],
             [
              0.6666666666666666,
              "#ed7953"
             ],
             [
              0.7777777777777778,
              "#fb9f3a"
             ],
             [
              0.8888888888888888,
              "#fdca26"
             ],
             [
              1.0,
              "#f0f921"
             ]
            ]
           }
          ],
          "mesh3d": [
           {
            "type": "mesh3d",
            "colorbar": {
             "outlinewidth": 0,
             "ticks": ""
            }
           }
          ],
          "scatter": [
           {
            "marker": {
             "line": {
              "color": "#283442"
             }
            },
            "type": "scatter"
           }
          ],
          "parcoords": [
           {
            "type": "parcoords",
            "line": {
             "colorbar": {
              "outlinewidth": 0,
              "ticks": ""
             }
            }
           }
          ],
          "scatterpolargl": [
           {
            "type": "scatterpolargl",
            "marker": {
             "colorbar": {
              "outlinewidth": 0,
              "ticks": ""
             }
            }
           }
          ],
          "bar": [
           {
            "error_x": {
             "color": "#f2f5fa"
            },
            "error_y": {
             "color": "#f2f5fa"
            },
            "marker": {
             "line": {
              "color": "rgb(17,17,17)",
              "width": 0.5
             },
             "pattern": {
              "fillmode": "overlay",
              "size": 10,
              "solidity": 0.2
             }
            },
            "type": "bar"
           }
          ],
          "scattergeo": [
           {
            "type": "scattergeo",
            "marker": {
             "colorbar": {
              "outlinewidth": 0,
              "ticks": ""
             }
            }
           }
          ],
          "scatterpolar": [
           {
            "type": "scatterpolar",
            "marker": {
             "colorbar": {
              "outlinewidth": 0,
              "ticks": ""
             }
            }
           }
          ],
          "histogram": [
           {
            "marker": {
             "pattern": {
              "fillmode": "overlay",
              "size": 10,
              "solidity": 0.2
             }
            },
            "type": "histogram"
           }
          ],
          "scattergl": [
           {
            "marker": {
             "line": {
              "color": "#283442"
             }
            },
            "type": "scattergl"
           }
          ],
          "scatter3d": [
           {
            "type": "scatter3d",
            "line": {
             "colorbar": {
              "outlinewidth": 0,
              "ticks": ""
             }
            },
            "marker": {
             "colorbar": {
              "outlinewidth": 0,
              "ticks": ""
             }
            }
           }
          ],
          "scattermap": [
           {
            "type": "scattermap",
            "marker": {
             "colorbar": {
              "outlinewidth": 0,
              "ticks": ""
             }
            }
           }
          ],
          "scattermapbox": [
           {
            "type": "scattermapbox",
            "marker": {
             "colorbar": {
              "outlinewidth": 0,
              "ticks": ""
             }
            }
           }
          ],
          "scatterternary": [
           {
            "type": "scatterternary",
            "marker": {
             "colorbar": {
              "outlinewidth": 0,
              "ticks": ""
             }
            }
           }
          ],
          "scattercarpet": [
           {
            "type": "scattercarpet",
            "marker": {
             "colorbar": {
              "outlinewidth": 0,
              "ticks": ""
             }
            }
           }
          ],
          "carpet": [
           {
            "aaxis": {
             "endlinecolor": "#A2B1C6",
             "gridcolor": "#506784",
             "linecolor": "#506784",
             "minorgridcolor": "#506784",
             "startlinecolor": "#A2B1C6"
            },
            "baxis": {
             "endlinecolor": "#A2B1C6",
             "gridcolor": "#506784",
             "linecolor": "#506784",
             "minorgridcolor": "#506784",
             "startlinecolor": "#A2B1C6"
            },
            "type": "carpet"
           }
          ],
          "table": [
           {
            "cells": {
             "fill": {
              "color": "#506784"
             },
             "line": {
              "color": "rgb(17,17,17)"
             }
            },
            "header": {
             "fill": {
              "color": "#2a3f5f"
             },
             "line": {
              "color": "rgb(17,17,17)"
             }
            },
            "type": "table"
           }
          ],
          "barpolar": [
           {
            "marker": {
             "line": {
              "color": "rgb(17,17,17)",
              "width": 0.5
             },
             "pattern": {
              "fillmode": "overlay",
              "size": 10,
              "solidity": 0.2
             }
            },
            "type": "barpolar"
           }
          ],
          "pie": [
           {
            "automargin": true,
            "type": "pie"
           }
          ]
         },
         "layout": {
          "autotypenumbers": "strict",
          "colorway": [
           "#636efa",
           "#EF553B",
           "#00cc96",
           "#ab63fa",
           "#FFA15A",
           "#19d3f3",
           "#FF6692",
           "#B6E880",
           "#FF97FF",
           "#FECB52"
          ],
          "font": {
           "color": "#f2f5fa"
          },
          "hovermode": "closest",
          "hoverlabel": {
           "align": "left"
          },
          "paper_bgcolor": "rgb(17,17,17)",
          "plot_bgcolor": "rgb(17,17,17)",
          "polar": {
           "bgcolor": "rgb(17,17,17)",
           "angularaxis": {
            "gridcolor": "#506784",
            "linecolor": "#506784",
            "ticks": ""
           },
           "radialaxis": {
            "gridcolor": "#506784",
            "linecolor": "#506784",
            "ticks": ""
           }
          },
          "ternary": {
           "bgcolor": "rgb(17,17,17)",
           "aaxis": {
            "gridcolor": "#506784",
            "linecolor": "#506784",
            "ticks": ""
           },
           "baxis": {
            "gridcolor": "#506784",
            "linecolor": "#506784",
            "ticks": ""
           },
           "caxis": {
            "gridcolor": "#506784",
            "linecolor": "#506784",
            "ticks": ""
           }
          },
          "coloraxis": {
           "colorbar": {
            "outlinewidth": 0,
            "ticks": ""
           }
          },
          "colorscale": {
           "sequential": [
            [
             0.0,
             "#0d0887"
            ],
            [
             0.1111111111111111,
             "#46039f"
            ],
            [
             0.2222222222222222,
             "#7201a8"
            ],
            [
             0.3333333333333333,
             "#9c179e"
            ],
            [
             0.4444444444444444,
             "#bd3786"
            ],
            [
             0.5555555555555556,
             "#d8576b"
            ],
            [
             0.6666666666666666,
             "#ed7953"
            ],
            [
             0.7777777777777778,
             "#fb9f3a"
            ],
            [
             0.8888888888888888,
             "#fdca26"
            ],
            [
             1.0,
             "#f0f921"
            ]
           ],
           "sequentialminus": [
            [
             0.0,
             "#0d0887"
            ],
            [
             0.1111111111111111,
             "#46039f"
            ],
            [
             0.2222222222222222,
             "#7201a8"
            ],
            [
             0.3333333333333333,
             "#9c179e"
            ],
            [
             0.4444444444444444,
             "#bd3786"
            ],
            [
             0.5555555555555556,
             "#d8576b"
            ],
            [
             0.6666666666666666,
             "#ed7953"
            ],
            [
             0.7777777777777778,
             "#fb9f3a"
            ],
            [
             0.8888888888888888,
             "#fdca26"
            ],
            [
             1.0,
             "#f0f921"
            ]
           ],
           "diverging": [
            [
             0,
             "#8e0152"
            ],
            [
             0.1,
             "#c51b7d"
            ],
            [
             0.2,
             "#de77ae"
            ],
            [
             0.3,
             "#f1b6da"
            ],
            [
             0.4,
             "#fde0ef"
            ],
            [
             0.5,
             "#f7f7f7"
            ],
            [
             0.6,
             "#e6f5d0"
            ],
            [
             0.7,
             "#b8e186"
            ],
            [
             0.8,
             "#7fbc41"
            ],
            [
             0.9,
             "#4d9221"
            ],
            [
             1,
             "#276419"
            ]
           ]
          },
          "xaxis": {
           "gridcolor": "#283442",
           "linecolor": "#506784",
           "ticks": "",
           "title": {
            "standoff": 15
           },
           "zerolinecolor": "#283442",
           "automargin": true,
           "zerolinewidth": 2
          },
          "yaxis": {
           "gridcolor": "#283442",
           "linecolor": "#506784",
           "ticks": "",
           "title": {
            "standoff": 15
           },
           "zerolinecolor": "#283442",
           "automargin": true,
           "zerolinewidth": 2
          },
          "scene": {
           "xaxis": {
            "backgroundcolor": "rgb(17,17,17)",
            "gridcolor": "#506784",
            "linecolor": "#506784",
            "showbackground": true,
            "ticks": "",
            "zerolinecolor": "#C8D4E3",
            "gridwidth": 2
           },
           "yaxis": {
            "backgroundcolor": "rgb(17,17,17)",
            "gridcolor": "#506784",
            "linecolor": "#506784",
            "showbackground": true,
            "ticks": "",
            "zerolinecolor": "#C8D4E3",
            "gridwidth": 2
           },
           "zaxis": {
            "backgroundcolor": "rgb(17,17,17)",
            "gridcolor": "#506784",
            "linecolor": "#506784",
            "showbackground": true,
            "ticks": "",
            "zerolinecolor": "#C8D4E3",
            "gridwidth": 2
           }
          },
          "shapedefaults": {
           "line": {
            "color": "#f2f5fa"
           }
          },
          "annotationdefaults": {
           "arrowcolor": "#f2f5fa",
           "arrowhead": 0,
           "arrowwidth": 1
          },
          "geo": {
           "bgcolor": "rgb(17,17,17)",
           "landcolor": "rgb(17,17,17)",
           "subunitcolor": "#506784",
           "showland": true,
           "showlakes": true,
           "lakecolor": "rgb(17,17,17)"
          },
          "title": {
           "x": 0.05
          },
          "updatemenudefaults": {
           "bgcolor": "#506784",
           "borderwidth": 0
          },
          "sliderdefaults": {
           "bgcolor": "#C8D4E3",
           "borderwidth": 1,
           "bordercolor": "rgb(17,17,17)",
           "tickwidth": 0
          },
          "mapbox": {
           "style": "dark"
          }
         }
        },
        "xaxis": {
         "anchor": "y",
         "domain": [
          0.0,
          1.0
         ],
         "title": {
          "text": "x"
         },
         "range": [
          50,
          200
         ]
        },
        "yaxis": {
         "anchor": "x",
         "domain": [
          0.0,
          1.0
         ],
         "title": {
          "text": "y"
         },
         "range": [
          650,
          750
         ]
        },
        "legend": {
         "tracegroupgap": 0
        },
        "margin": {
         "t": 60
        },
        "title": {
         "text": "test1"
        },
        "shapes": [
         {
          "line": {
           "color": "darkred"
          },
          "type": "line",
          "x0": 110,
          "x1": 110,
          "xref": "x",
          "y0": 0,
          "y1": 1,
          "yref": "y domain"
         },
         {
          "line": {
           "color": "darkred"
          },
          "type": "line",
          "x0": 115,
          "x1": 115,
          "xref": "x",
          "y0": 0,
          "y1": 1,
          "yref": "y domain"
         },
         {
          "line": {
           "color": "darkred"
          },
          "type": "line",
          "x0": 150,
          "x1": 150,
          "xref": "x",
          "y0": 0,
          "y1": 1,
          "yref": "y domain"
         },
         {
          "line": {
           "color": "darkred"
          },
          "type": "line",
          "x0": 155,
          "x1": 155,
          "xref": "x",
          "y0": 0,
          "y1": 1,
          "yref": "y domain"
         }
        ]
       },
       "config": {
        "plotlyServerURL": "https://plot.ly"
       }
      }
     },
     "metadata": {},
     "output_type": "display_data",
     "jetTransient": {
      "display_id": null
     }
    },
    {
     "data": {
      "application/vnd.plotly.v1+json": {
       "data": [
        {
         "hovertemplate": "x=%{x}<br>y=%{y}<extra></extra>",
         "legendgroup": "",
         "line": {
          "color": "#636efa",
          "dash": "solid"
         },
         "marker": {
          "symbol": "circle"
         },
         "mode": "lines",
         "name": "",
         "showlegend": false,
         "x": {
          "dtype": "f8",
          "bdata": "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"
         },
         "xaxis": "x",
         "y": {
          "dtype": "f8",
          "bdata": "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"
         },
         "yaxis": "y",
         "type": "scattergl"
        }
       ],
       "layout": {
        "template": {
         "data": {
          "histogram2dcontour": [
           {
            "type": "histogram2dcontour",
            "colorbar": {
             "outlinewidth": 0,
             "ticks": ""
            },
            "colorscale": [
             [
              0.0,
              "#0d0887"
             ],
             [
              0.1111111111111111,
              "#46039f"
             ],
             [
              0.2222222222222222,
              "#7201a8"
             ],
             [
              0.3333333333333333,
              "#9c179e"
             ],
             [
              0.4444444444444444,
              "#bd3786"
             ],
             [
              0.5555555555555556,
              "#d8576b"
             ],
             [
              0.6666666666666666,
              "#ed7953"
             ],
             [
              0.7777777777777778,
              "#fb9f3a"
             ],
             [
              0.8888888888888888,
              "#fdca26"
             ],
             [
              1.0,
              "#f0f921"
             ]
            ]
           }
          ],
          "choropleth": [
           {
            "type": "choropleth",
            "colorbar": {
             "outlinewidth": 0,
             "ticks": ""
            }
           }
          ],
          "histogram2d": [
           {
            "type": "histogram2d",
            "colorbar": {
             "outlinewidth": 0,
             "ticks": ""
            },
            "colorscale": [
             [
              0.0,
              "#0d0887"
             ],
             [
              0.1111111111111111,
              "#46039f"
             ],
             [
              0.2222222222222222,
              "#7201a8"
             ],
             [
              0.3333333333333333,
              "#9c179e"
             ],
             [
              0.4444444444444444,
              "#bd3786"
             ],
             [
              0.5555555555555556,
              "#d8576b"
             ],
             [
              0.6666666666666666,
              "#ed7953"
             ],
             [
              0.7777777777777778,
              "#fb9f3a"
             ],
             [
              0.8888888888888888,
              "#fdca26"
             ],
             [
              1.0,
              "#f0f921"
             ]
            ]
           }
          ],
          "heatmap": [
           {
            "type": "heatmap",
            "colorbar": {
             "outlinewidth": 0,
             "ticks": ""
            },
            "colorscale": [
             [
              0.0,
              "#0d0887"
             ],
             [
              0.1111111111111111,
              "#46039f"
             ],
             [
              0.2222222222222222,
              "#7201a8"
             ],
             [
              0.3333333333333333,
              "#9c179e"
             ],
             [
              0.4444444444444444,
              "#bd3786"
             ],
             [
              0.5555555555555556,
              "#d8576b"
             ],
             [
              0.6666666666666666,
              "#ed7953"
             ],
             [
              0.7777777777777778,
              "#fb9f3a"
             ],
             [
              0.8888888888888888,
              "#fdca26"
             ],
             [
              1.0,
              "#f0f921"
             ]
            ]
           }
          ],
          "contourcarpet": [
           {
            "type": "contourcarpet",
            "colorbar": {
             "outlinewidth": 0,
             "ticks": ""
            }
           }
          ],
          "contour": [
           {
            "type": "contour",
            "colorbar": {
             "outlinewidth": 0,
             "ticks": ""
            },
            "colorscale": [
             [
              0.0,
              "#0d0887"
             ],
             [
              0.1111111111111111,
              "#46039f"
             ],
             [
              0.2222222222222222,
              "#7201a8"
             ],
             [
              0.3333333333333333,
              "#9c179e"
             ],
             [
              0.4444444444444444,
              "#bd3786"
             ],
             [
              0.5555555555555556,
              "#d8576b"
             ],
             [
              0.6666666666666666,
              "#ed7953"
             ],
             [
              0.7777777777777778,
              "#fb9f3a"
             ],
             [
              0.8888888888888888,
              "#fdca26"
             ],
             [
              1.0,
              "#f0f921"
             ]
            ]
           }
          ],
          "surface": [
           {
            "type": "surface",
            "colorbar": {
             "outlinewidth": 0,
             "ticks": ""
            },
            "colorscale": [
             [
              0.0,
              "#0d0887"
             ],
             [
              0.1111111111111111,
              "#46039f"
             ],
             [
              0.2222222222222222,
              "#7201a8"
             ],
             [
              0.3333333333333333,
              "#9c179e"
             ],
             [
              0.4444444444444444,
              "#bd3786"
             ],
             [
              0.5555555555555556,
              "#d8576b"
             ],
             [
              0.6666666666666666,
              "#ed7953"
             ],
             [
              0.7777777777777778,
              "#fb9f3a"
             ],
             [
              0.8888888888888888,
              "#fdca26"
             ],
             [
              1.0,
              "#f0f921"
             ]
            ]
           }
          ],
          "mesh3d": [
           {
            "type": "mesh3d",
            "colorbar": {
             "outlinewidth": 0,
             "ticks": ""
            }
           }
          ],
          "scatter": [
           {
            "marker": {
             "line": {
              "color": "#283442"
             }
            },
            "type": "scatter"
           }
          ],
          "parcoords": [
           {
            "type": "parcoords",
            "line": {
             "colorbar": {
              "outlinewidth": 0,
              "ticks": ""
             }
            }
           }
          ],
          "scatterpolargl": [
           {
            "type": "scatterpolargl",
            "marker": {
             "colorbar": {
              "outlinewidth": 0,
              "ticks": ""
             }
            }
           }
          ],
          "bar": [
           {
            "error_x": {
             "color": "#f2f5fa"
            },
            "error_y": {
             "color": "#f2f5fa"
            },
            "marker": {
             "line": {
              "color": "rgb(17,17,17)",
              "width": 0.5
             },
             "pattern": {
              "fillmode": "overlay",
              "size": 10,
              "solidity": 0.2
             }
            },
            "type": "bar"
           }
          ],
          "scattergeo": [
           {
            "type": "scattergeo",
            "marker": {
             "colorbar": {
              "outlinewidth": 0,
              "ticks": ""
             }
            }
           }
          ],
          "scatterpolar": [
           {
            "type": "scatterpolar",
            "marker": {
             "colorbar": {
              "outlinewidth": 0,
              "ticks": ""
             }
            }
           }
          ],
          "histogram": [
           {
            "marker": {
             "pattern": {
              "fillmode": "overlay",
              "size": 10,
              "solidity": 0.2
             }
            },
            "type": "histogram"
           }
          ],
          "scattergl": [
           {
            "marker": {
             "line": {
              "color": "#283442"
             }
            },
            "type": "scattergl"
           }
          ],
          "scatter3d": [
           {
            "type": "scatter3d",
            "line": {
             "colorbar": {
              "outlinewidth": 0,
              "ticks": ""
             }
            },
            "marker": {
             "colorbar": {
              "outlinewidth": 0,
              "ticks": ""
             }
            }
           }
          ],
          "scattermap": [
           {
            "type": "scattermap",
            "marker": {
             "colorbar": {
              "outlinewidth": 0,
              "ticks": ""
             }
            }
           }
          ],
          "scattermapbox": [
           {
            "type": "scattermapbox",
            "marker": {
             "colorbar": {
              "outlinewidth": 0,
              "ticks": ""
             }
            }
           }
          ],
          "scatterternary": [
           {
            "type": "scatterternary",
            "marker": {
             "colorbar": {
              "outlinewidth": 0,
              "ticks": ""
             }
            }
           }
          ],
          "scattercarpet": [
           {
            "type": "scattercarpet",
            "marker": {
             "colorbar": {
              "outlinewidth": 0,
              "ticks": ""
             }
            }
           }
          ],
          "carpet": [
           {
            "aaxis": {
             "endlinecolor": "#A2B1C6",
             "gridcolor": "#506784",
             "linecolor": "#506784",
             "minorgridcolor": "#506784",
             "startlinecolor": "#A2B1C6"
            },
            "baxis": {
             "endlinecolor": "#A2B1C6",
             "gridcolor": "#506784",
             "linecolor": "#506784",
             "minorgridcolor": "#506784",
             "startlinecolor": "#A2B1C6"
            },
            "type": "carpet"
           }
          ],
          "table": [
           {
            "cells": {
             "fill": {
              "color": "#506784"
             },
             "line": {
              "color": "rgb(17,17,17)"
             }
            },
            "header": {
             "fill": {
              "color": "#2a3f5f"
             },
             "line": {
              "color": "rgb(17,17,17)"
             }
            },
            "type": "table"
           }
          ],
          "barpolar": [
           {
            "marker": {
             "line": {
              "color": "rgb(17,17,17)",
              "width": 0.5
             },
             "pattern": {
              "fillmode": "overlay",
              "size": 10,
              "solidity": 0.2
             }
            },
            "type": "barpolar"
           }
          ],
          "pie": [
           {
            "automargin": true,
            "type": "pie"
           }
          ]
         },
         "layout": {
          "autotypenumbers": "strict",
          "colorway": [
           "#636efa",
           "#EF553B",
           "#00cc96",
           "#ab63fa",
           "#FFA15A",
           "#19d3f3",
           "#FF6692",
           "#B6E880",
           "#FF97FF",
           "#FECB52"
          ],
          "font": {
           "color": "#f2f5fa"
          },
          "hovermode": "closest",
          "hoverlabel": {
           "align": "left"
          },
          "paper_bgcolor": "rgb(17,17,17)",
          "plot_bgcolor": "rgb(17,17,17)",
          "polar": {
           "bgcolor": "rgb(17,17,17)",
           "angularaxis": {
            "gridcolor": "#506784",
            "linecolor": "#506784",
            "ticks": ""
           },
           "radialaxis": {
            "gridcolor": "#506784",
            "linecolor": "#506784",
            "ticks": ""
           }
          },
          "ternary": {
           "bgcolor": "rgb(17,17,17)",
           "aaxis": {
            "gridcolor": "#506784",
            "linecolor": "#506784",
            "ticks": ""
           },
           "baxis": {
            "gridcolor": "#506784",
            "linecolor": "#506784",
            "ticks": ""
           },
           "caxis": {
            "gridcolor": "#506784",
            "linecolor": "#506784",
            "ticks": ""
           }
          },
          "coloraxis": {
           "colorbar": {
            "outlinewidth": 0,
            "ticks": ""
           }
          },
          "colorscale": {
           "sequential": [
            [
             0.0,
             "#0d0887"
            ],
            [
             0.1111111111111111,
             "#46039f"
            ],
            [
             0.2222222222222222,
             "#7201a8"
            ],
            [
             0.3333333333333333,
             "#9c179e"
            ],
            [
             0.4444444444444444,
             "#bd3786"
            ],
            [
             0.5555555555555556,
             "#d8576b"
            ],
            [
             0.6666666666666666,
             "#ed7953"
            ],
            [
             0.7777777777777778,
             "#fb9f3a"
            ],
            [
             0.8888888888888888,
             "#fdca26"
            ],
            [
             1.0,
             "#f0f921"
            ]
           ],
           "sequentialminus": [
            [
             0.0,
             "#0d0887"
            ],
            [
             0.1111111111111111,
             "#46039f"
            ],
            [
             0.2222222222222222,
             "#7201a8"
            ],
            [
             0.3333333333333333,
             "#9c179e"
            ],
            [
             0.4444444444444444,
             "#bd3786"
            ],
            [
             0.5555555555555556,
             "#d8576b"
            ],
            [
             0.6666666666666666,
             "#ed7953"
            ],
            [
             0.7777777777777778,
             "#fb9f3a"
            ],
            [
             0.8888888888888888,
             "#fdca26"
            ],
            [
             1.0,
             "#f0f921"
            ]
           ],
           "diverging": [
            [
             0,
             "#8e0152"
            ],
            [
             0.1,
             "#c51b7d"
            ],
            [
             0.2,
             "#de77ae"
            ],
            [
             0.3,
             "#f1b6da"
            ],
            [
             0.4,
             "#fde0ef"
            ],
            [
             0.5,
             "#f7f7f7"
            ],
            [
             0.6,
             "#e6f5d0"
            ],
            [
             0.7,
             "#b8e186"
            ],
            [
             0.8,
             "#7fbc41"
            ],
            [
             0.9,
             "#4d9221"
            ],
            [
             1,
             "#276419"
            ]
           ]
          },
          "xaxis": {
           "gridcolor": "#283442",
           "linecolor": "#506784",
           "ticks": "",
           "title": {
            "standoff": 15
           },
           "zerolinecolor": "#283442",
           "automargin": true,
           "zerolinewidth": 2
          },
          "yaxis": {
           "gridcolor": "#283442",
           "linecolor": "#506784",
           "ticks": "",
           "title": {
            "standoff": 15
           },
           "zerolinecolor": "#283442",
           "automargin": true,
           "zerolinewidth": 2
          },
          "scene": {
           "xaxis": {
            "backgroundcolor": "rgb(17,17,17)",
            "gridcolor": "#506784",
            "linecolor": "#506784",
            "showbackground": true,
            "ticks": "",
            "zerolinecolor": "#C8D4E3",
            "gridwidth": 2
           },
           "yaxis": {
            "backgroundcolor": "rgb(17,17,17)",
            "gridcolor": "#506784",
            "linecolor": "#506784",
            "showbackground": true,
            "ticks": "",
            "zerolinecolor": "#C8D4E3",
            "gridwidth": 2
           },
           "zaxis": {
            "backgroundcolor": "rgb(17,17,17)",
            "gridcolor": "#506784",
            "linecolor": "#506784",
            "showbackground": true,
            "ticks": "",
            "zerolinecolor": "#C8D4E3",
            "gridwidth": 2
           }
          },
          "shapedefaults": {
           "line": {
            "color": "#f2f5fa"
           }
          },
          "annotationdefaults": {
           "arrowcolor": "#f2f5fa",
           "arrowhead": 0,
           "arrowwidth": 1
          },
          "geo": {
           "bgcolor": "rgb(17,17,17)",
           "landcolor": "rgb(17,17,17)",
           "subunitcolor": "#506784",
           "showland": true,
           "showlakes": true,
           "lakecolor": "rgb(17,17,17)"
          },
          "title": {
           "x": 0.05
          },
          "updatemenudefaults": {
           "bgcolor": "#506784",
           "borderwidth": 0
          },
          "sliderdefaults": {
           "bgcolor": "#C8D4E3",
           "borderwidth": 1,
           "bordercolor": "rgb(17,17,17)",
           "tickwidth": 0
          },
          "mapbox": {
           "style": "dark"
          }
         }
        },
        "xaxis": {
         "anchor": "y",
         "domain": [
          0.0,
          1.0
         ],
         "title": {
          "text": "x"
         },
         "range": [
          50,
          200
         ]
        },
        "yaxis": {
         "anchor": "x",
         "domain": [
          0.0,
          1.0
         ],
         "title": {
          "text": "y"
         },
         "range": [
          650,
          750
         ]
        },
        "legend": {
         "tracegroupgap": 0
        },
        "margin": {
         "t": 60
        },
        "title": {
         "text": "test2"
        },
        "shapes": [
         {
          "line": {
           "color": "darkred"
          },
          "type": "line",
          "x0": 110,
          "x1": 110,
          "xref": "x",
          "y0": 0,
          "y1": 1,
          "yref": "y domain"
         },
         {
          "line": {
           "color": "darkred"
          },
          "type": "line",
          "x0": 115,
          "x1": 115,
          "xref": "x",
          "y0": 0,
          "y1": 1,
          "yref": "y domain"
         },
         {
          "line": {
           "color": "darkred"
          },
          "type": "line",
          "x0": 150,
          "x1": 150,
          "xref": "x",
          "y0": 0,
          "y1": 1,
          "yref": "y domain"
         },
         {
          "line": {
           "color": "darkred"
          },
          "type": "line",
          "x0": 155,
          "x1": 155,
          "xref": "x",
          "y0": 0,
          "y1": 1,
          "yref": "y domain"
         }
        ]
       },
       "config": {
        "plotlyServerURL": "https://plot.ly"
       }
      }
     },
     "metadata": {},
     "output_type": "display_data",
     "jetTransient": {
      "display_id": null
     }
    }
   ],
   "execution_count": 121
  }
 ],
 "metadata": {
  "kernelspec": {
   "display_name": "Python 3",
   "language": "python",
   "name": "python3"
  },
  "language_info": {
   "codemirror_mode": {
    "name": "ipython",
    "version": 2
   },
   "file_extension": ".py",
   "mimetype": "text/x-python",
   "name": "python",
   "nbconvert_exporter": "python",
   "pygments_lexer": "ipython2",
   "version": "2.7.6"
  }
 },
 "nbformat": 4,
 "nbformat_minor": 5
}
