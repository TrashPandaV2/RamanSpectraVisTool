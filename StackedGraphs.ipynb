{
 "cells": [
  {
   "metadata": {},
   "cell_type": "code",
   "source": [
    "import numpy as np\n",
    "import matplotlib.pyplot as plt\n",
    "import os"
   ],
   "id": "a2533db3058acf3b",
   "outputs": [],
   "execution_count": null
  },
  {
   "metadata": {},
   "cell_type": "code",
   "source": [
    "dir= r\"\"\n",
    "total_plots = len([file for file in os.listdir(dir) if file.endswith(\".txt\")])"
   ],
   "id": "c93175650bcbd0c0",
   "outputs": [],
   "execution_count": null
  },
  {
   "metadata": {},
   "cell_type": "code",
   "source": [
    "\n",
    "for i, file in enumerate(os.listdir(dir)):\n",
    "\n",
    "    if file.endswith(\".txt\"):\n",
    "\n",
    "\n",
    "        file_path = os.path.join(dir,file)\n",
    "        SpectraFile = np.loadtxt(file_path, delimiter=\"\\t\")\n",
    "        x_axis = SpectraFile[:,0]\n",
    "        y_axis = SpectraFile[:,1]\n",
    "        plt.subplot(total_plots,1,i+1)\n",
    "        plt.plot(x_axis,y_axis)\n",
    "        plt.subplots_adjust(hspace=0.6)\n",
    "\n",
    "\n",
    "\n",
    "        plt.title(os.path.splitext(file)[0])\n",
    "        plt.xlim(50, 200)\n",
    "        plt.ylim(650, 750)\n",
    "\n",
    "        x_peak_ranges=[110,115,150,155]\n",
    "        for x in x_peak_ranges:\n",
    "            plt.axvline(x=x, color=\"red\", linestyle=\"--\", alpha=0.6)\n",
    "\n",
    "plt.xlabel(\"X Axis\")\n",
    "plt.ylabel(\"Y Axis\")\n",
    "plt.show()\n"
   ],
   "id": "5cbb78f5d23112f4",
   "outputs": [],
   "execution_count": null
  },
  {
   "metadata": {},
   "cell_type": "code",
   "source": "",
   "id": "9f8bea2308def00b",
   "outputs": [],
   "execution_count": null
  }
 ],
 "metadata": {
  "kernelspec": {
   "display_name": "Python 3",
   "language": "python",
   "name": "python3"
  },
  "language_info": {
   "codemirror_mode": {
    "name": "ipython",
    "version": 2
   },
   "file_extension": ".py",
   "mimetype": "text/x-python",
   "name": "python",
   "nbconvert_exporter": "python",
   "pygments_lexer": "ipython2",
   "version": "2.7.6"
  }
 },
 "nbformat": 4,
 "nbformat_minor": 5
}
