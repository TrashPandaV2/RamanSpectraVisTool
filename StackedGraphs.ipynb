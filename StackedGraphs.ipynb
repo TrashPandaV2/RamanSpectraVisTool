{
 "cells": [
  {
   "metadata": {},
   "cell_type": "code",
   "source": [
    "import numpy as np\n",
    "import os\n",
    "import plotly.graph_objects as go\n",
    "from plotly.subplots import make_subplots"
   ],
   "id": "a2533db3058acf3b",
   "outputs": [],
   "execution_count": null
  },
  {
   "metadata": {},
   "cell_type": "code",
   "source": [
    "dir= r\"\"\n",
    "total_plots = len([file for file in os.listdir(dir) if file.endswith(\".txt\")])\n",
    "fig=make_subplots(rows=total_plots, cols=1)"
   ],
   "id": "c93175650bcbd0c0",
   "outputs": [],
   "execution_count": null
  },
  {
   "metadata": {},
   "cell_type": "code",
   "source": [
    "\n",
    "\n",
    "for i, file in enumerate(os.listdir(dir)):\n",
    "\n",
    "    if file.endswith(\".txt\"):\n",
    "\n",
    "\n",
    "        file_path = os.path.join(dir,file)\n",
    "        SpectraFile = np.loadtxt(file_path, delimiter=\"\\t\")\n",
    "        x_axis = SpectraFile[:,0]\n",
    "        y_axis = SpectraFile[:,1]\n",
    "\n",
    "\n",
    "        fig.add_trace(go.Scatter(x=x_axis, y=y_axis, mode=\"lines\",  name=file.split(\".\")[0]), row=i+1, col=1)\n",
    "\n",
    "\n",
    "for i in range(1,total_plots):\n",
    "    fig.update_xaxes(range=[100,200])\n",
    "\n",
    "peak_ranges=[110,115,150,155]\n",
    "for peak in peak_ranges:\n",
    "    fig.add_vline(peak, line_color=\"darkred\",line=dict(dash=\"dash\"))\n",
    "\n",
    "fig.update_layout(showlegend=True)\n",
    "fig.show()\n"
   ],
   "id": "5cbb78f5d23112f4",
   "outputs": [],
   "execution_count": null
  }
 ],
 "metadata": {
  "kernelspec": {
   "display_name": "Python 3",
   "language": "python",
   "name": "python3"
  },
  "language_info": {
   "codemirror_mode": {
    "name": "ipython",
    "version": 2
   },
   "file_extension": ".py",
   "mimetype": "text/x-python",
   "name": "python",
   "nbconvert_exporter": "python",
   "pygments_lexer": "ipython2",
   "version": "2.7.6"
  }
 },
 "nbformat": 4,
 "nbformat_minor": 5
}
